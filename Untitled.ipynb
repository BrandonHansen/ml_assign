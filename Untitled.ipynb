{
 "cells": [
  {
   "cell_type": "code",
   "execution_count": 1,
   "metadata": {},
   "outputs": [
    {
     "name": "stdout",
     "output_type": "stream",
     "text": [
      "collecting data for training...\n"
     ]
    },
    {
     "ename": "NameError",
     "evalue": "name 'full_features' is not defined",
     "output_type": "error",
     "traceback": [
      "\u001b[1;31m---------------------------------------------------------------------------\u001b[0m",
      "\u001b[1;31mNameError\u001b[0m                                 Traceback (most recent call last)",
      "\u001b[1;32m<ipython-input-1-90a47068f2cf>\u001b[0m in \u001b[0;36m<module>\u001b[1;34m()\u001b[0m\n\u001b[0;32m     27\u001b[0m '''\n\u001b[0;32m     28\u001b[0m \u001b[1;33m\u001b[0m\u001b[0m\n\u001b[1;32m---> 29\u001b[1;33m \u001b[0mminority\u001b[0m \u001b[1;33m=\u001b[0m \u001b[0mfull_features\u001b[0m\u001b[1;33m[\u001b[0m\u001b[0mfull_features\u001b[0m\u001b[1;33m[\u001b[0m\u001b[0mclass_labels\u001b[0m\u001b[1;33m]\u001b[0m \u001b[1;33m==\u001b[0m \u001b[1;36m1\u001b[0m\u001b[1;33m]\u001b[0m\u001b[1;33m\u001b[0m\u001b[0m\n\u001b[0m\u001b[0;32m     30\u001b[0m \u001b[0mmajority\u001b[0m \u001b[1;33m=\u001b[0m \u001b[0mfull_features\u001b[0m\u001b[1;33m[\u001b[0m\u001b[0mfull_features\u001b[0m\u001b[1;33m[\u001b[0m\u001b[0mclass_labels\u001b[0m\u001b[1;33m]\u001b[0m \u001b[1;33m==\u001b[0m \u001b[1;33m-\u001b[0m\u001b[1;36m1\u001b[0m\u001b[1;33m]\u001b[0m\u001b[1;33m\u001b[0m\u001b[0m\n\u001b[0;32m     31\u001b[0m \u001b[0mmin_upsampled\u001b[0m \u001b[1;33m=\u001b[0m \u001b[0mresample\u001b[0m\u001b[1;33m(\u001b[0m\u001b[0mminority\u001b[0m\u001b[1;33m,\u001b[0m \u001b[0mreplace\u001b[0m\u001b[1;33m=\u001b[0m\u001b[1;32mTrue\u001b[0m\u001b[1;33m,\u001b[0m \u001b[0mn_samples\u001b[0m\u001b[1;33m=\u001b[0m\u001b[1;36m3118\u001b[0m\u001b[1;33m)\u001b[0m\u001b[1;33m\u001b[0m\u001b[0m\n",
      "\u001b[1;31mNameError\u001b[0m: name 'full_features' is not defined"
     ]
    }
   ],
   "source": [
    "from sklearn.neural_network import MLPClassifier\n",
    "from sklearn.ensemble import RandomForestClassifier\n",
    "from sklearn import svm\n",
    "from sklearn.naive_bayes import GaussianNB\n",
    "from sklearn.neighbors import KNeighborsClassifier\n",
    "\n",
    "from sklearn.model_selection import StratifiedKFold\n",
    "from sklearn.metrics import accuracy_score\n",
    "from sklearn.metrics import f1_score\n",
    "import pandas as pd\n",
    "import numpy as np\n",
    "\n",
    "file_name = \"classification_train.txt\"\n",
    "\n",
    "print(\"collecting data for training...\")\n",
    "\n",
    "full_feature_cols = [i for i in range(0, 48)]\n",
    "cont_feature_cols = [3,14,24,39]\n",
    "disc_feature_cols = [i for i in range(0, 48) if i not in cont_feature_cols]\n",
    "class_labels = 48\n",
    "\n",
    "'''\n",
    "full_features = pd.read_csv(file_name, usecols=full_feature_cols)\n",
    "cont_features = pd.read_csv(file_name, usecols=cont_feature_cols)\n",
    "disc_features = pd.read_csv(file_name, usecols=disc_feature_cols)\n",
    "classes = pd.read_csv(file_name, usecols=[class_labels])\n",
    "'''\n",
    "\n",
    "minority = full_features[full_features[class_labels] == 1]\n",
    "majority = full_features[full_features[class_labels] == -1]\n",
    "min_upsampled = resample(minority, replace=True, n_samples=3118)\n",
    "\n",
    "upsampled = pd.concat([majority, min_upsampled])\n",
    "\n",
    "upsampled = upsampled.sample(frac=1).reset_index(drop=True)\n",
    "\n",
    "cont_features = upsampled[cont_feature_cols]\n",
    "disc_features = upsampled[disc_feature_cols]\n",
    "classes = upsampled[class_labels]\n",
    "\n",
    "\n",
    "selected_features = cont_features\n",
    "\n",
    "features_data = selected_features.as_matrix()\n",
    "class_data = np.ravel(classes.as_matrix())\n",
    "\n",
    "clf = svm.SVC()\n",
    "clf.fit(features_data, class_data)\n",
    "\n",
    "\n",
    "predicted = clf.predict(features_data)\n",
    "score = accuracy_score(class_data, predicted)\n",
    "print(\"resubstitution score:\", score)\n",
    "\n",
    "file_name = \"classification_test.txt\"\n",
    "\n",
    "print(\"collecting data for testing...\")\n",
    "\n",
    "full_feature_cols = [i for i in range(0, 48)]\n",
    "cont_feature_cols = [3,14,24,39]\n",
    "disc_feature_cols = [i for i in range(0, 48) if i not in cont_feature_cols]\n",
    "\n",
    "full_features = pd.read_csv(file_name, usecols=full_feature_cols)\n",
    "cont_features = pd.read_csv(file_name, usecols=cont_feature_cols)\n",
    "disc_features = pd.read_csv(file_name, usecols=disc_feature_cols)\n",
    "classes = pd.read_csv(file_name, usecols=[class_labels])\n",
    "\n",
    "selected_features = cont_features\n",
    "\n",
    "features_data = selected_features.as_matrix()\n",
    "class_data = np.ravel(classes.as_matrix())\n",
    "\n",
    "predicted = clf.predict(features_data)\n",
    "score = accuracy_score(class_data, predicted)\n",
    "\n",
    "predicted = clf.predict(features_data)\n",
    "score = accuracy_score(class_data, predicted)\n",
    "print(\"nonsense score:\", score)\n",
    "\n",
    "predicted.astype(int)\n",
    "\n",
    "np.savetxt(\"classification_results.csv\", predicted, delimiter=\",\")"
   ]
  },
  {
   "cell_type": "code",
   "execution_count": null,
   "metadata": {},
   "outputs": [],
   "source": []
  }
 ],
 "metadata": {
  "kernelspec": {
   "display_name": "Python 3",
   "language": "python",
   "name": "python3"
  },
  "language_info": {
   "codemirror_mode": {
    "name": "ipython",
    "version": 3
   },
   "file_extension": ".py",
   "mimetype": "text/x-python",
   "name": "python",
   "nbconvert_exporter": "python",
   "pygments_lexer": "ipython3",
   "version": "3.6.4"
  }
 },
 "nbformat": 4,
 "nbformat_minor": 2
}
